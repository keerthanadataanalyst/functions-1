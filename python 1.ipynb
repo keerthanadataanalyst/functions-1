{
 "cells": [
  {
   "cell_type": "code",
   "execution_count": 2,
   "id": "4e63e0ad-178c-4023-b93d-2064c952ce83",
   "metadata": {},
   "outputs": [
    {
     "data": {
      "text/plain": [
       "'a'"
      ]
     },
     "execution_count": 2,
     "metadata": {},
     "output_type": "execute_result"
    }
   ],
   "source": [
    "chr(97)"
   ]
  },
  {
   "cell_type": "code",
   "execution_count": 4,
   "id": "fa7a4a54-8c28-47c4-951f-2191c2bc75eb",
   "metadata": {},
   "outputs": [
    {
     "data": {
      "text/plain": [
       "'@'"
      ]
     },
     "execution_count": 4,
     "metadata": {},
     "output_type": "execute_result"
    }
   ],
   "source": [
    "chr(64)"
   ]
  },
  {
   "cell_type": "code",
   "execution_count": 6,
   "id": "e27aea52-a175-4643-a615-85997127d486",
   "metadata": {},
   "outputs": [
    {
     "data": {
      "text/plain": [
       "98"
      ]
     },
     "execution_count": 6,
     "metadata": {},
     "output_type": "execute_result"
    }
   ],
   "source": [
    "ord(\"b\")"
   ]
  },
  {
   "cell_type": "code",
   "execution_count": 8,
   "id": "7bdd2a66-e813-426e-9210-b50560e4c1de",
   "metadata": {},
   "outputs": [
    {
     "data": {
      "text/plain": [
       "'Ή'"
      ]
     },
     "execution_count": 8,
     "metadata": {},
     "output_type": "execute_result"
    }
   ],
   "source": [
    "\"\\u0389\""
   ]
  },
  {
   "cell_type": "code",
   "execution_count": 12,
   "id": "e5b9bd13-0df0-4789-a4ea-f3709d9896b7",
   "metadata": {},
   "outputs": [],
   "source": [
    "a = \"keerthi\""
   ]
  },
  {
   "cell_type": "code",
   "execution_count": 16,
   "id": "42387d37-665c-464f-bb5f-780d4425b19a",
   "metadata": {},
   "outputs": [
    {
     "data": {
      "text/plain": [
       "'r'"
      ]
     },
     "execution_count": 16,
     "metadata": {},
     "output_type": "execute_result"
    }
   ],
   "source": [
    "a[3]"
   ]
  },
  {
   "cell_type": "code",
   "execution_count": 18,
   "id": "4af1826e-a3fd-414a-b131-be1daca2efac",
   "metadata": {},
   "outputs": [
    {
     "data": {
      "text/plain": [
       "'i'"
      ]
     },
     "execution_count": 18,
     "metadata": {},
     "output_type": "execute_result"
    }
   ],
   "source": [
    "a[-1]"
   ]
  },
  {
   "cell_type": "code",
   "execution_count": 24,
   "id": "6fc5437f-9d23-4f22-bf63-9c814d8708c3",
   "metadata": {},
   "outputs": [
    {
     "data": {
      "text/plain": [
       "'Ita'"
      ]
     },
     "execution_count": 24,
     "metadata": {},
     "output_type": "execute_result"
    }
   ],
   "source": [
    "a = \"Italy is a great city\"\n",
    "a [0:3]"
   ]
  },
  {
   "cell_type": "code",
   "execution_count": null,
   "id": "fb9d05ae-9d19-4066-b688-7b0d06ba2a8b",
   "metadata": {},
   "outputs": [],
   "source": []
  },
  {
   "cell_type": "code",
   "execution_count": 26,
   "id": "74ce9261-8718-47d8-b9f7-ea197b0ef4fa",
   "metadata": {},
   "outputs": [
    {
     "data": {
      "text/plain": [
       "'Italy is a great city'"
      ]
     },
     "execution_count": 26,
     "metadata": {},
     "output_type": "execute_result"
    }
   ],
   "source": [
    "a [0:]"
   ]
  },
  {
   "cell_type": "code",
   "execution_count": 28,
   "id": "8f44f058-85b8-4bb2-8fe7-58229dded059",
   "metadata": {},
   "outputs": [
    {
     "data": {
      "text/plain": [
       "'ly is a great city'"
      ]
     },
     "execution_count": 28,
     "metadata": {},
     "output_type": "execute_result"
    }
   ],
   "source": [
    "a [ 3:]"
   ]
  },
  {
   "cell_type": "code",
   "execution_count": 30,
   "id": "c797ffb8-881b-43c4-8548-e40f740b10ce",
   "metadata": {},
   "outputs": [
    {
     "data": {
      "text/plain": [
       "'ity'"
      ]
     },
     "execution_count": 30,
     "metadata": {},
     "output_type": "execute_result"
    }
   ],
   "source": [
    "a [-3:]"
   ]
  },
  {
   "cell_type": "code",
   "execution_count": 32,
   "id": "78ec5f88-ee9d-4140-9647-a4840d1a6260",
   "metadata": {},
   "outputs": [
    {
     "data": {
      "text/plain": [
       "'Ita'"
      ]
     },
     "execution_count": 32,
     "metadata": {},
     "output_type": "execute_result"
    }
   ],
   "source": [
    "a[0:3:1]"
   ]
  },
  {
   "cell_type": "code",
   "execution_count": 34,
   "id": "65e0b19c-b0eb-43c1-b1e5-8891051dde85",
   "metadata": {},
   "outputs": [
    {
     "data": {
      "text/plain": [
       "'Ia'"
      ]
     },
     "execution_count": 34,
     "metadata": {},
     "output_type": "execute_result"
    }
   ],
   "source": [
    "a[0:3:2]"
   ]
  },
  {
   "cell_type": "code",
   "execution_count": 36,
   "id": "763eef06-4994-42af-80d8-7bd0d5e498e4",
   "metadata": {},
   "outputs": [
    {
     "data": {
      "text/plain": [
       "'Il'"
      ]
     },
     "execution_count": 36,
     "metadata": {},
     "output_type": "execute_result"
    }
   ],
   "source": [
    "a[0:5:3]"
   ]
  },
  {
   "cell_type": "code",
   "execution_count": 38,
   "id": "99ca0399-f328-4495-8b94-47f5d9a34b22",
   "metadata": {},
   "outputs": [
    {
     "data": {
      "text/plain": [
       "'Iayi  ra iy'"
      ]
     },
     "execution_count": 38,
     "metadata": {},
     "output_type": "execute_result"
    }
   ],
   "source": [
    "a [::2]"
   ]
  },
  {
   "cell_type": "code",
   "execution_count": 40,
   "id": "9569f074-9dff-4c7a-be87-602b635bb327",
   "metadata": {},
   "outputs": [
    {
     "data": {
      "text/plain": [
       "'Iliarti'"
      ]
     },
     "execution_count": 40,
     "metadata": {},
     "output_type": "execute_result"
    }
   ],
   "source": [
    "a[::3]"
   ]
  },
  {
   "cell_type": "code",
   "execution_count": 42,
   "id": "7f887051-ed15-4807-a89e-871495d6b75f",
   "metadata": {},
   "outputs": [
    {
     "data": {
      "text/plain": [
       "'ytic taerg a si ylatI'"
      ]
     },
     "execution_count": 42,
     "metadata": {},
     "output_type": "execute_result"
    }
   ],
   "source": [
    "a[::-1]"
   ]
  },
  {
   "cell_type": "code",
   "execution_count": 46,
   "id": "d220948f-71bb-4b2e-9f16-e152dc6d60f4",
   "metadata": {},
   "outputs": [
    {
     "data": {
      "text/plain": [
       "12"
      ]
     },
     "execution_count": 46,
     "metadata": {},
     "output_type": "execute_result"
    }
   ],
   "source": [
    "s = \"i love italy\"\n",
    "len(s)"
   ]
  },
  {
   "cell_type": "code",
   "execution_count": 56,
   "id": "729e6365-e433-4fc4-8398-f0a2d8ac343e",
   "metadata": {},
   "outputs": [
    {
     "data": {
      "text/plain": [
       "'i love greek'"
      ]
     },
     "execution_count": 56,
     "metadata": {},
     "output_type": "execute_result"
    }
   ],
   "source": [
    "s.replace(\"italy\", \"greek\") "
   ]
  },
  {
   "cell_type": "code",
   "execution_count": null,
   "id": "1c80dae9-da41-473a-86cd-886b82e4dff6",
   "metadata": {},
   "outputs": [],
   "source": [
    "a = \"i love italy\"\n",
    "a[:5]"
   ]
  },
  {
   "cell_type": "code",
   "execution_count": 68,
   "id": "f288a0ef-06e3-4874-adf9-9ba077ab4ca4",
   "metadata": {},
   "outputs": [
    {
     "data": {
      "text/plain": [
       "'ove italy'"
      ]
     },
     "execution_count": 68,
     "metadata": {},
     "output_type": "execute_result"
    }
   ],
   "source": [
    "a = 'I love italy'\n",
    "a[3:]"
   ]
  },
  {
   "cell_type": "code",
   "execution_count": 70,
   "id": "45a947e7-5ca9-42c6-b170-f2d1518c2b67",
   "metadata": {},
   "outputs": [
    {
     "data": {
      "text/plain": [
       "'Ilv tl'"
      ]
     },
     "execution_count": 70,
     "metadata": {},
     "output_type": "execute_result"
    }
   ],
   "source": [
    "a[::2]"
   ]
  },
  {
   "cell_type": "code",
   "execution_count": 72,
   "id": "ccf58214-e6f4-42be-b3d1-32c5397c6c2a",
   "metadata": {},
   "outputs": [
    {
     "data": {
      "text/plain": [
       "'lv tl'"
      ]
     },
     "execution_count": 72,
     "metadata": {},
     "output_type": "execute_result"
    }
   ],
   "source": [
    "a[2::2]\n"
   ]
  },
  {
   "cell_type": "code",
   "execution_count": 76,
   "id": "45d3cf8b-80ad-4369-9012-536fb581aec8",
   "metadata": {},
   "outputs": [
    {
     "data": {
      "text/plain": [
       "''"
      ]
     },
     "execution_count": 76,
     "metadata": {},
     "output_type": "execute_result"
    }
   ],
   "source": [
    "a[-3:0]"
   ]
  },
  {
   "cell_type": "code",
   "execution_count": 80,
   "id": "1e8438c8-0db0-4fd4-8a58-cfa81a43b749",
   "metadata": {},
   "outputs": [
    {
     "data": {
      "text/plain": [
       "''"
      ]
     },
     "execution_count": 80,
     "metadata": {},
     "output_type": "execute_result"
    }
   ],
   "source": [
    "a = 'I love italy'"
   ]
  },
  {
   "cell_type": "code",
   "execution_count": 90,
   "id": "f66984b5-53cd-47c5-8390-72efa1fa0d20",
   "metadata": {},
   "outputs": [
    {
     "data": {
      "text/plain": [
       "'aly'"
      ]
     },
     "execution_count": 90,
     "metadata": {},
     "output_type": "execute_result"
    }
   ],
   "source": [
    "a = 'I love italy'\n",
    "a[-3:]"
   ]
  },
  {
   "cell_type": "code",
   "execution_count": 84,
   "id": "38105733-b4e3-45ea-9927-e9989dbe64d8",
   "metadata": {},
   "outputs": [
    {
     "data": {
      "text/plain": [
       "'lv tl'"
      ]
     },
     "execution_count": 84,
     "metadata": {},
     "output_type": "execute_result"
    }
   ],
   "source": [
    "a[2::2]"
   ]
  },
  {
   "cell_type": "code",
   "execution_count": 88,
   "id": "75f79032-f8a4-4011-bdaa-f8bebc61fe28",
   "metadata": {},
   "outputs": [
    {
     "data": {
      "text/plain": [
       "'d'"
      ]
     },
     "execution_count": 88,
     "metadata": {},
     "output_type": "execute_result"
    }
   ],
   "source": [
    "a = \"hello world\"\n",
    "a[-1:]"
   ]
  },
  {
   "cell_type": "code",
   "execution_count": null,
   "id": "487bc07d-1777-430f-affa-861b95b974c9",
   "metadata": {},
   "outputs": [],
   "source": []
  }
 ],
 "metadata": {
  "kernelspec": {
   "display_name": "Python 3 (ipykernel)",
   "language": "python",
   "name": "python3"
  },
  "language_info": {
   "codemirror_mode": {
    "name": "ipython",
    "version": 3
   },
   "file_extension": ".py",
   "mimetype": "text/x-python",
   "name": "python",
   "nbconvert_exporter": "python",
   "pygments_lexer": "ipython3",
   "version": "3.12.7"
  }
 },
 "nbformat": 4,
 "nbformat_minor": 5
}
